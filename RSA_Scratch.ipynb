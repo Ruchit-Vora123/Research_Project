{
  "nbformat": 4,
  "nbformat_minor": 0,
  "metadata": {
    "colab": {
      "name": "RSA_Scratch.ipynb",
      "provenance": [],
      "collapsed_sections": []
    },
    "kernelspec": {
      "name": "python3",
      "display_name": "Python 3"
    },
    "language_info": {
      "name": "python"
    }
  },
  "cells": [
    {
      "cell_type": "code",
      "metadata": {
        "id": "7Dhxf7YwvYbo"
      },
      "source": [
        "#Library for basic mathematic calculation\n",
        "import math\n",
        "import time"
      ],
      "execution_count": null,
      "outputs": []
    },
    {
      "cell_type": "code",
      "metadata": {
        "colab": {
          "base_uri": "https://localhost:8080/"
        },
        "id": "JbVfihQaLtNp",
        "outputId": "c96da6ca-00df-43be-a27d-95ffc9052a78"
      },
      "source": [
        " #Taking input of  Prime Numbers from user\n",
        "print(\"PLEASE ENTER THE 'p' AND 'q' VALUES BELOW:\")\n",
        "p = int(input(\"Enter a prime number for p: \"))\n",
        "q = int(input(\"Enter a prime number for q: \"))"
      ],
      "execution_count": null,
      "outputs": [
        {
          "output_type": "stream",
          "text": [
            "PLEASE ENTER THE 'p' AND 'q' VALUES BELOW:\n",
            "Enter a prime number for p: 7\n",
            "Enter a prime number for q: 11\n"
          ],
          "name": "stdout"
        }
      ]
    },
    {
      "cell_type": "code",
      "metadata": {
        "id": "aoxld2w8LxWy"
      },
      "source": [
        "#Check if Input's are Prime\n",
        "'''FUNCTION FOR CHECKING WHEATHER INPUTS ARE PRIME OR NOT.'''\n",
        "def prime_check(a):\n",
        "    if(a==2):\n",
        "        return True\n",
        "    elif((a<2) or ((a%2)==0)):\n",
        "        return False\n",
        "    elif(a>2):\n",
        "        for i in range(2,a):\n",
        "            if not(a%i):\n",
        "                return false\n",
        "    return True\n",
        "\n",
        "check_p = prime_check(p)\n",
        "check_q = prime_check(q)\n",
        "while(((check_p==False)or(check_q==False))):\n",
        "    p = int(input(\"Enter a prime number for p: \"))\n",
        "    q = int(input(\"Enter a prime number for q: \"))\n",
        "    check_p = prime_check(p)\n",
        "    check_q = prime_check(q)"
      ],
      "execution_count": null,
      "outputs": []
    },
    {
      "cell_type": "code",
      "metadata": {
        "colab": {
          "base_uri": "https://localhost:8080/"
        },
        "id": "Qf-HOLj3L3e7",
        "outputId": "99678deb-5849-4571-fb82-bd468719a697"
      },
      "source": [
        "#RSA Modulus\n",
        "'''CALCULATION OF RSA MODULUS 'n'.'''\n",
        "n = p * q\n",
        "print(\"RSA Modulus(n) is:\",n)\n",
        " \n",
        "13\n",
        "#Eulers Toitent\n",
        "'''CALCULATION OF EULERS TOITENT 'r'.'''\n",
        "r= (p-1)*(q-1)\n",
        "print(\"Eulers Toitent(r) is:\",r)\n"
      ],
      "execution_count": null,
      "outputs": [
        {
          "output_type": "stream",
          "text": [
            "RSA Modulus(n) is: 77\n",
            "Eulers Toitent(r) is: 60\n"
          ],
          "name": "stdout"
        }
      ]
    },
    {
      "cell_type": "code",
      "metadata": {
        "id": "CBDFklqpMDEM"
      },
      "source": [
        "#GCD\n",
        "'''CALCULATION OF GCD FOR 'e' CALCULATION.'''\n",
        "def egcd(e,r):\n",
        "    while(r!=0):\n",
        "        e,r=r,e%r\n",
        "    return e\n",
        " \n",
        "#Euclid's Algorithm\n",
        "def eugcd(e,r):\n",
        "    for i in range(1,r):\n",
        "        while(e!=0):\n",
        "            a,b=r//e,r%e\n",
        "            if(b!=0):\n",
        "                print(\"%d = %d*(%d) + %d\"%(r,a,e,b))\n",
        "            r=e\n",
        "            e=b\n",
        " \n",
        "#Extended Euclidean Algorithm\n",
        "def eea(a,b):\n",
        "    if(a%b==0):\n",
        "        return(b,0,1)\n",
        "    else:\n",
        "        gcd,s,t = eea(b,a%b)\n",
        "        s = s-((a//b) * t)\n",
        "        print(\"%d = %d*(%d) + (%d)*(%d)\"%(gcd,a,t,s,b))\n",
        "        return(gcd,t,s)\n",
        " \n",
        "#Multiplicative Inverse\n",
        "def mult_inv(e,r):\n",
        "    gcd,s,_=eea(e,r)\n",
        "    if(gcd!=1):\n",
        "        return None\n",
        "    else:\n",
        "        if(s<0):\n",
        "            print(\"s=%d. Since %d is less than 0, s = s(modr), i.e., s=%d.\"%(s,s,s%r))\n",
        "        elif(s>0):\n",
        "            print(\"s=%d.\"%(s))\n",
        "        return s%r"
      ],
      "execution_count": null,
      "outputs": []
    },
    {
      "cell_type": "code",
      "metadata": {
        "colab": {
          "base_uri": "https://localhost:8080/"
        },
        "id": "-9jL9BpiMkSS",
        "outputId": "15dbe26f-3792-44b7-9929-1e91d972f3b4"
      },
      "source": [
        "#e Value Calculation\n",
        "'''FINDS THE HIGHEST POSSIBLE VALUE OF 'e' BETWEEN 1 and 1000 THAT MAKES (e,r) COPRIME.'''\n",
        "for i in range(1,1000):\n",
        "    if(egcd(i,r)==1):\n",
        "        e=i\n",
        "print(\"The value of e is:\",e)\n",
        "print(\"*****************************************************\")\n",
        " \n",
        "#d, Private and Public Keys\n",
        "'''CALCULATION OF 'd', PRIVATE KEY, AND PUBLIC KEY.'''\n",
        "print(\"EUCLID'S ALGORITHM:\")\n",
        "eugcd(e,r)\n",
        "print(\"END OF THE STEPS USED TO ACHIEVE EUCLID'S ALGORITHM.\")\n",
        "print(\"*****************************************************\")\n",
        "print(\"EUCLID'S EXTENDED ALGORITHM:\")\n",
        "d = mult_inv(e,r)\n",
        "print(\"END OF THE STEPS USED TO ACHIEVE THE VALUE OF 'd'.\")\n",
        "print(\"The value of d is:\",d)\n",
        "print(\"*****************************************************\")\n",
        "public = (e,n)\n",
        "private = (d,n)\n",
        "print(\"Private Key is:\",private)\n",
        "print(\"Public Key is:\",public)\n",
        "print(\"*****************************************************\") "
      ],
      "execution_count": null,
      "outputs": [
        {
          "output_type": "stream",
          "text": [
            "The value of e is: 997\n",
            "*****************************************************\n",
            "EUCLID'S ALGORITHM:\n",
            "60 = 0*(997) + 60\n",
            "997 = 16*(60) + 37\n",
            "60 = 1*(37) + 23\n",
            "37 = 1*(23) + 14\n",
            "23 = 1*(14) + 9\n",
            "14 = 1*(9) + 5\n",
            "9 = 1*(5) + 4\n",
            "5 = 1*(4) + 1\n",
            "END OF THE STEPS USED TO ACHIEVE EUCLID'S ALGORITHM.\n",
            "*****************************************************\n",
            "EUCLID'S EXTENDED ALGORITHM:\n",
            "1 = 5*(1) + (-1)*(4)\n",
            "1 = 9*(-1) + (2)*(5)\n",
            "1 = 14*(2) + (-3)*(9)\n",
            "1 = 23*(-3) + (5)*(14)\n",
            "1 = 37*(5) + (-8)*(23)\n",
            "1 = 60*(-8) + (13)*(37)\n",
            "1 = 997*(13) + (-216)*(60)\n",
            "s=13.\n",
            "END OF THE STEPS USED TO ACHIEVE THE VALUE OF 'd'.\n",
            "The value of d is: 13\n",
            "*****************************************************\n",
            "Private Key is: (13, 77)\n",
            "Public Key is: (997, 77)\n",
            "*****************************************************\n"
          ],
          "name": "stdout"
        }
      ]
    },
    {
      "cell_type": "code",
      "metadata": {
        "id": "zUmqAusjMoPG"
      },
      "source": [
        "#Encryption PROCESS\n",
        "'''ENCRYPTION ALGORITHM.'''\n",
        "def encrypt(pub_key,n_text):\n",
        "    e,n=pub_key\n",
        "    x=[]\n",
        "    m=0\n",
        "    for i in n_text:\n",
        "        if(i.isupper()):\n",
        "            m = ord(i)-65\n",
        "            c=(m**e)%n\n",
        "            x.append(c)\n",
        "        elif(i.islower()):               \n",
        "            m= ord(i)-97\n",
        "            c=(m**e)%n\n",
        "            x.append(c)\n",
        "        elif(i.isspace()):\n",
        "            spc=400\n",
        "            x.append(400)\n",
        "    return x\n"
      ],
      "execution_count": null,
      "outputs": []
    },
    {
      "cell_type": "code",
      "metadata": {
        "id": "gUF-JBgPvQhm"
      },
      "source": [
        "#Decryption PROCESS\n",
        "'''DECRYPTION ALGORITHM'''\n",
        "def decrypt(priv_key,c_text):\n",
        "    d,n=priv_key\n",
        "    txt=c_text.split(',')\n",
        "    x=''\n",
        "    m=0\n",
        "    for i in txt:\n",
        "        if(i=='400'):\n",
        "            x+=' '\n",
        "        else:\n",
        "            m=(int(i)**d)%n\n",
        "            m+=65\n",
        "            c=chr(m)\n",
        "            x+=c\n",
        "    return x\n",
        " \n"
      ],
      "execution_count": null,
      "outputs": []
    },
    {
      "cell_type": "code",
      "metadata": {
        "colab": {
          "base_uri": "https://localhost:8080/"
        },
        "id": "FlrU9vx7MtFj",
        "outputId": "be2ee0a7-6d73-4c62-98f0-1b54349a2dfe"
      },
      "source": [
        "#DISPLAYING MESSASGE FOR USER\n",
        "message = input(\"What would you like encrypted or decrypted?(Separate numbers with ',' for decryption):\")\n",
        "print(\"Your message is:\",message)\n",
        " \n",
        "#Choose Encrypt or Decrypt and Print\n",
        "choose = input(\"Type '1' for encryption and '2' for decrytion.\")\n",
        "if(choose=='1'):\n",
        "    start_time = time.time()\n",
        "    enc_msg=encrypt(public,message)\n",
        "    print(\"Your encrypted message is:\",enc_msg)\n",
        "\n",
        "    elapsed_time = time.time() - start_time\n",
        "    print(\"TIme used by algorithm for encryption is :- \", elapsed_time)\n",
        "    print(\"Thank you for using the RSA Encryptor. Goodbye!\")\n",
        "\n",
        "elif(choose=='2'):\n",
        "    print(\"Your decrypted message is:\",decrypt(private,message))\n",
        "    print(\"Thank you for using the RSA Encryptor. Goodbye!\")\n",
        "else:\n",
        "    print(\"You entered the wrong option.\")\n",
        "    print(\"Thank you for using the RSA Encryptor. Goodbye!\")"
      ],
      "execution_count": null,
      "outputs": [
        {
          "output_type": "stream",
          "text": [
            "What would you like encrypted or decrypted?(Separate numbers with ',' for decryption):Ruchit Vora\n",
            "Your message is: Ruchit Vora\n",
            "Type '1' for encryption and '2' for decrytion.1\n",
            "Your encrypted message is: [52, 48, 51, 28, 57, 68, 400, 21, 42, 52, 0]\n",
            "TIme used by algorithm for encryption is :-  0.00021409988403320312\n",
            "Thank you for using the RSA Encryptor. Goodbye!\n"
          ],
          "name": "stdout"
        }
      ]
    },
    {
      "cell_type": "code",
      "metadata": {
        "id": "k5G-j1WuEggv"
      },
      "source": [
        ""
      ],
      "execution_count": null,
      "outputs": []
    }
  ]
}