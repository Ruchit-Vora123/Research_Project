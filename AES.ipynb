{
  "nbformat": 4,
  "nbformat_minor": 0,
  "metadata": {
    "colab": {
      "name": "AES.ipynb",
      "provenance": [],
      "collapsed_sections": []
    },
    "kernelspec": {
      "name": "python3",
      "display_name": "Python 3"
    },
    "language_info": {
      "name": "python"
    }
  },
  "cells": [
    {
      "cell_type": "code",
      "metadata": {
        "id": "ovCuFSTKiqu9",
        "colab": {
          "base_uri": "https://localhost:8080/"
        },
        "outputId": "aab2b17a-beb6-4e07-c127-013ad7e168cb"
      },
      "source": [
        "#Library for implementing cryptographic algorithms\n",
        "!pip install pycrypto\n",
        "!pip install Fernet\n",
        "import time\n",
        "from scipy.spatial.distance import hamming"
      ],
      "execution_count": 13,
      "outputs": [
        {
          "output_type": "stream",
          "text": [
            "Requirement already satisfied: pycrypto in /usr/local/lib/python3.7/dist-packages (2.6.1)\n",
            "Requirement already satisfied: Fernet in /usr/local/lib/python3.7/dist-packages (1.0.1)\n",
            "Requirement already satisfied: pyaes in /usr/local/lib/python3.7/dist-packages (from Fernet) (1.6.1)\n"
          ],
          "name": "stdout"
        }
      ]
    },
    {
      "cell_type": "code",
      "metadata": {
        "id": "U5VgS6s4idLp"
      },
      "source": [
        "import hashlib\n",
        "from Crypto import Random\n",
        "from Crypto.Cipher import AES\n",
        "from base64 import b64encode, b64decode"
      ],
      "execution_count": 14,
      "outputs": []
    },
    {
      "cell_type": "code",
      "metadata": {
        "id": "3HgQwPxTiYnZ"
      },
      "source": [
        "class AESCipher(object):\n",
        "    \n",
        "    #initialize block size and generating key \n",
        "    def __init__(self, key):\n",
        "        self.block_size = AES.block_size\n",
        "        self.key = hashlib.sha256(key.encode()).digest()\n",
        "    #Encryption Function\n",
        "    def encrypt(self, plain_text):\n",
        "        plain_text = self.__pad(plain_text)\n",
        "        iv = Random.new().read(self.block_size)\n",
        "        cipher = AES.new(self.key, AES.MODE_CBC, iv)\n",
        "\n",
        "        '''encode plaintext using b64encode'''\n",
        "        encrypted_text = cipher.encrypt(plain_text.encode())\n",
        "        return b64encode(iv + encrypted_text).decode(\"utf-8\")\n",
        "\n",
        "    #Decryption function\n",
        "    def decrypt(self, encrypted_text):\n",
        "        encrypted_text = b64decode(encrypted_text)\n",
        "        iv = encrypted_text[:self.block_size]\n",
        "        cipher = AES.new(self.key, AES.MODE_CBC, iv)\n",
        "\n",
        "        '''decode encrypted text using b64decode'''\n",
        "        plain_text = cipher.decrypt(encrypted_text[self.block_size:]).decode(\"utf-8\")\n",
        "        return self.__unpad(plain_text)\n",
        "\n",
        "    #Padding function \n",
        "    def __pad(self, plain_text):\n",
        "        number_of_bytes_to_pad = self.block_size - len(plain_text) % self.block_size\n",
        "        ascii_string = chr(number_of_bytes_to_pad)\n",
        "        padding_str = number_of_bytes_to_pad * ascii_string\n",
        "        padded_plain_text = plain_text + padding_str\n",
        "        return padded_plain_text\n",
        "\n",
        "    #unpadding function\n",
        "    @staticmethod\n",
        "    def __unpad(plain_text):\n",
        "        last_character = plain_text[len(plain_text) - 1:]\n",
        "        return plain_text[:-ord(last_character)]"
      ],
      "execution_count": 15,
      "outputs": []
    },
    {
      "cell_type": "code",
      "metadata": {
        "id": "uh_zsr-ljkPg",
        "colab": {
          "base_uri": "https://localhost:8080/"
        },
        "outputId": "fb1b07d3-f1d6-4540-ffc2-a066206c1a08"
      },
      "source": [
        "obj_AES = AESCipher(\"54 68 61 74 73 20 6D 79 20 4b 75 6E 67 20 46 75\")\n",
        "\n",
        "plain_text = input(\"Please Enter plain text:-\")\n",
        "start_time = time.time()\n",
        "encrypted_text = obj_AES.encrypt(plain_text)\n",
        "elapsed_time = time.time() - start_time\n",
        "\n",
        "print(\"Time used by algorithm to encrypt:- \", elapsed_time)\n",
        "print(encrypted_text)"
      ],
      "execution_count": 16,
      "outputs": [
        {
          "output_type": "stream",
          "text": [
            "Please Enter plain text:-Ruchit Vora\n",
            "Time used by algorithm to encrypt:-  0.0003876686096191406\n",
            "8GaKNWUyDowrsw+pUi0J3ePAP7UApNAc9zXSIaatxUM=\n"
          ],
          "name": "stdout"
        }
      ]
    },
    {
      "cell_type": "code",
      "metadata": {
        "id": "IDy8vDGalzPr",
        "colab": {
          "base_uri": "https://localhost:8080/"
        },
        "outputId": "249b3531-9121-461d-bc42-032a08bb3454"
      },
      "source": [
        "decrypted_text = obj_AES.decrypt(encrypted_text)\n",
        "print(\"Decryptected Text is :\" , decrypted_text)"
      ],
      "execution_count": 17,
      "outputs": [
        {
          "output_type": "stream",
          "text": [
            "Decryptected Text is : Ruchit Vora\n"
          ],
          "name": "stdout"
        }
      ]
    },
    {
      "cell_type": "code",
      "metadata": {
        "id": "h5zX2Ma2UU_9",
        "colab": {
          "base_uri": "https://localhost:8080/"
        },
        "outputId": "423d2f44-f2c6-4b54-a453-e21c364731d3"
      },
      "source": [
        "plain_text2 = input(\"Please Enter plain text:-\")\n",
        "encrypted_text2 = obj_AES.encrypt(plain_text)\n",
        "print(encrypted_text2)\n",
        "\n",
        "ham_distance = hamming(encrypted_text2,encrypted_text) * len(encrypted_text)\n",
        "print(ham_distance)"
      ],
      "execution_count": 18,
      "outputs": [
        {
          "output_type": "stream",
          "text": [
            "Please Enter plain text:-ruchit vora\n",
            "ubg5TZsaLvWC2Ci6R+paNkT9mIvRC60lWG6r59eWuVg=\n",
            "44.0\n"
          ],
          "name": "stdout"
        }
      ]
    },
    {
      "cell_type": "code",
      "metadata": {
        "colab": {
          "base_uri": "https://localhost:8080/",
          "height": 296
        },
        "id": "VoDHIDtMay93",
        "outputId": "7f24b980-b65f-431c-c43f-7a9dc001d287"
      },
      "source": [
        "import matplotlib.pyplot as plt\n",
        "\n",
        "\n",
        "encryption_algorithm = ['AES','BLOWFISH','DES','RSA','SHA1','SHA224','SHA256','SHA384','SHA512']\n",
        "encryption_time = [0.00041294097900390625,0.0011775493621826172,0.004855680465698242,0.004511117935180664,0.00021791458129882812,0.0021703243255615234,0.0001914501190185547,0.005225181579589844,0.0006103515625]\n",
        "\n",
        "\n",
        "plt.bar(encryption_algorithm,encryption_time)\n",
        "plt.title('Encryption time')\n",
        "plt.xlabel('encryption_algorithm')\n",
        "plt.ylabel('encryption_time')\n",
        "# plt.figure() \n",
        "# fig, ax = plt.subplots(figsize=(5, 5))\n",
        "plt.show()"
      ],
      "execution_count": 38,
      "outputs": [
        {
          "output_type": "display_data",
          "data": {
            "image/png": "[encoded data removed]",
            "text/plain": [
              "<Figure size 432x288 with 1 Axes>"
            ]
          },
          "metadata": {
            "tags": [],
            "needs_background": "light"
          }
        }
      ]
    },
    {
      "cell_type": "code",
      "metadata": {
        "colab": {
          "base_uri": "https://localhost:8080/",
          "height": 296
        },
        "id": "n5XQGyk3cgfo",
        "outputId": "9693b158-34ce-4227-e2f5-5d943edfe768"
      },
      "source": [
        "encryption_algorithm = ['AES','BLOWFISH','DES','RSA','SHA1','SHA224','SHA256','SHA384','SHA512']\n",
        "hamming_distance = [44.0,32.0,136.0,172.0,40,56,64,96,128]\n",
        "\n",
        "plt.bar(encryption_algorithm,hamming_distance)\n",
        "plt.title('Hamming Distance')\n",
        "plt.xlabel('encryption_algorithm')\n",
        "plt.ylabel('hamming_distance')\n",
        "plt.show()"
      ],
      "execution_count": 40,
      "outputs": [
        {
          "output_type": "display_data",
          "data": {
            "image/png": "[encoded data removed]",
            "text/plain": [
              "<Figure size 432x288 with 1 Axes>"
            ]
          },
          "metadata": {
            "tags": [],
            "needs_background": "light"
          }
        }
      ]
    },
    {
      "cell_type": "code",
      "metadata": {
        "id": "UjnadqV22HPH"
      },
      "source": [
        ""
      ],
      "execution_count": null,
      "outputs": []
    }
  ]
}