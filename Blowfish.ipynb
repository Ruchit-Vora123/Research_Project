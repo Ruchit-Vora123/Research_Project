{
  "nbformat": 4,
  "nbformat_minor": 0,
  "metadata": {
    "colab": {
      "name": "Blowfish.ipynb",
      "provenance": [],
      "collapsed_sections": []
    },
    "kernelspec": {
      "name": "python3",
      "display_name": "Python 3"
    },
    "language_info": {
      "name": "python"
    }
  },
  "cells": [
    {
      "cell_type": "code",
      "metadata": {
        "colab": {
          "base_uri": "https://localhost:8080/"
        },
        "id": "_kF0jESFdhd_",
        "outputId": "55f7d29b-4bc2-43e3-c67e-75950be96b58"
      },
      "source": [
        "#Library for implementing cryptographic algorithms\n",
        "!pip install pycrypto\n",
        "import time\n",
        "from scipy.spatial.distance import hamming"
      ],
      "execution_count": null,
      "outputs": [
        {
          "output_type": "stream",
          "text": [
            "Collecting pycrypto\n",
            "  Downloading pycrypto-2.6.1.tar.gz (446 kB)\n",
            "\u001b[?25l\r\u001b[K     |▊                               | 10 kB 16.0 MB/s eta 0:00:01\r\u001b[K     |█▌                              | 20 kB 21.8 MB/s eta 0:00:01\r\u001b[K     |██▏                             | 30 kB 24.6 MB/s eta 0:00:01\r\u001b[K     |███                             | 40 kB 7.4 MB/s eta 0:00:01\r\u001b[K     |███▊                            | 51 kB 7.8 MB/s eta 0:00:01\r\u001b[K     |████▍                           | 61 kB 8.2 MB/s eta 0:00:01\r\u001b[K     |█████▏                          | 71 kB 6.3 MB/s eta 0:00:01\r\u001b[K     |█████▉                          | 81 kB 7.0 MB/s eta 0:00:01\r\u001b[K     |██████▋                         | 92 kB 5.9 MB/s eta 0:00:01\r\u001b[K     |███████▍                        | 102 kB 6.2 MB/s eta 0:00:01\r\u001b[K     |████████                        | 112 kB 6.2 MB/s eta 0:00:01\r\u001b[K     |████████▉                       | 122 kB 6.2 MB/s eta 0:00:01\r\u001b[K     |█████████▌                      | 133 kB 6.2 MB/s eta 0:00:01\r\u001b[K     |██████████▎                     | 143 kB 6.2 MB/s eta 0:00:01\r\u001b[K     |███████████                     | 153 kB 6.2 MB/s eta 0:00:01\r\u001b[K     |███████████▊                    | 163 kB 6.2 MB/s eta 0:00:01\r\u001b[K     |████████████▌                   | 174 kB 6.2 MB/s eta 0:00:01\r\u001b[K     |█████████████▏                  | 184 kB 6.2 MB/s eta 0:00:01\r\u001b[K     |██████████████                  | 194 kB 6.2 MB/s eta 0:00:01\r\u001b[K     |██████████████▊                 | 204 kB 6.2 MB/s eta 0:00:01\r\u001b[K     |███████████████▍                | 215 kB 6.2 MB/s eta 0:00:01\r\u001b[K     |████████████████▏               | 225 kB 6.2 MB/s eta 0:00:01\r\u001b[K     |█████████████████               | 235 kB 6.2 MB/s eta 0:00:01\r\u001b[K     |█████████████████▋              | 245 kB 6.2 MB/s eta 0:00:01\r\u001b[K     |██████████████████▍             | 256 kB 6.2 MB/s eta 0:00:01\r\u001b[K     |███████████████████             | 266 kB 6.2 MB/s eta 0:00:01\r\u001b[K     |███████████████████▉            | 276 kB 6.2 MB/s eta 0:00:01\r\u001b[K     |████████████████████▋           | 286 kB 6.2 MB/s eta 0:00:01\r\u001b[K     |█████████████████████▎          | 296 kB 6.2 MB/s eta 0:00:01\r\u001b[K     |██████████████████████          | 307 kB 6.2 MB/s eta 0:00:01\r\u001b[K     |██████████████████████▊         | 317 kB 6.2 MB/s eta 0:00:01\r\u001b[K     |███████████████████████▌        | 327 kB 6.2 MB/s eta 0:00:01\r\u001b[K     |████████████████████████▎       | 337 kB 6.2 MB/s eta 0:00:01\r\u001b[K     |█████████████████████████       | 348 kB 6.2 MB/s eta 0:00:01\r\u001b[K     |█████████████████████████▊      | 358 kB 6.2 MB/s eta 0:00:01\r\u001b[K     |██████████████████████████▍     | 368 kB 6.2 MB/s eta 0:00:01\r\u001b[K     |███████████████████████████▏    | 378 kB 6.2 MB/s eta 0:00:01\r\u001b[K     |████████████████████████████    | 389 kB 6.2 MB/s eta 0:00:01\r\u001b[K     |████████████████████████████▋   | 399 kB 6.2 MB/s eta 0:00:01\r\u001b[K     |█████████████████████████████▍  | 409 kB 6.2 MB/s eta 0:00:01\r\u001b[K     |██████████████████████████████  | 419 kB 6.2 MB/s eta 0:00:01\r\u001b[K     |██████████████████████████████▉ | 430 kB 6.2 MB/s eta 0:00:01\r\u001b[K     |███████████████████████████████▋| 440 kB 6.2 MB/s eta 0:00:01\r\u001b[K     |████████████████████████████████| 446 kB 6.2 MB/s \n",
            "\u001b[?25hBuilding wheels for collected packages: pycrypto\n",
            "  Building wheel for pycrypto (setup.py) ... \u001b[?25l\u001b[?25hdone\n",
            "  Created wheel for pycrypto: filename=pycrypto-2.6.1-cp37-cp37m-linux_x86_64.whl size=499932 sha256=9f7aa4504b7a4e85e38c15e3cc69a69f995a14c5a5aca37d52c5f98bf8ce1a5b\n",
            "  Stored in directory: /root/.cache/pip/wheels/cf/85/ba/bbd7c96add459de7598fb424e5ff2309baf2095c844ac0f191\n",
            "Successfully built pycrypto\n",
            "Installing collected packages: pycrypto\n",
            "Successfully installed pycrypto-2.6.1\n"
          ],
          "name": "stdout"
        }
      ]
    },
    {
      "cell_type": "code",
      "metadata": {
        "id": "2TByiS_hdUWQ"
      },
      "source": [
        "import os, sys\n",
        "import hashlib\n",
        "from Crypto.Cipher import Blowfish\n",
        "from Crypto import Random\n",
        "from base64 import b64encode, b64decode"
      ],
      "execution_count": null,
      "outputs": []
    },
    {
      "cell_type": "code",
      "metadata": {
        "id": "UrkEB5x0dPAM"
      },
      "source": [
        "class Blowfish_Encryption:\n",
        "    \n",
        "    \n",
        "    def __init__(self, key):\n",
        "        self.block_size = Blowfish.block_size\n",
        "        self.key = hashlib.sha256(key.encode()).digest()\n",
        "    \n",
        "    #encryption function\n",
        "    def encrypt(self, plain_text):\n",
        "        plain_text = self.__pad(plain_text)\n",
        "        iv = Random.new().read(self.block_size)\n",
        "        cipher = Blowfish.new(self.key, Blowfish.MODE_ECB, iv)\n",
        "\n",
        "        '''encode plaintext using b64encode '''\n",
        "        encrypted_text = cipher.encrypt(plain_text.encode())\n",
        "        return b64encode(iv + encrypted_text).decode(\"utf-8\")\n",
        "\n",
        "    #decryption function\n",
        "    def decrypt(self, encrypted_text):\n",
        "        encrypted_text = b64decode(encrypted_text)\n",
        "        iv = encrypted_text[:self.block_size]\n",
        "        cipher = Blowfish.new(self.key, Blowfish.MODE_ECB, iv)\n",
        "        '''decode encrypted text using b64decode'''\n",
        "        plain_text = cipher.decrypt(encrypted_text[self.block_size:]).decode(\"utf-8\")\n",
        "        return self.__unpad(plain_text)\n",
        "\n",
        "    #padding function\n",
        "    def __pad(self, plain_text):\n",
        "        number_of_bytes_to_pad = self.block_size - len(plain_text) % self.block_size\n",
        "        ascii_string = chr(number_of_bytes_to_pad)\n",
        "        padding_str = number_of_bytes_to_pad * ascii_string\n",
        "        padded_plain_text = plain_text + padding_str\n",
        "        return padded_plain_text\n",
        "\n",
        "    @staticmethod\n",
        "    def __unpad(plain_text):\n",
        "        last_character = plain_text[len(plain_text) - 1:]\n",
        "        return plain_text[:-ord(last_character)]"
      ],
      "execution_count": null,
      "outputs": []
    },
    {
      "cell_type": "code",
      "metadata": {
        "colab": {
          "base_uri": "https://localhost:8080/"
        },
        "id": "3XvDRTg8eA2O",
        "outputId": "100daf92-9525-4cab-e71a-d8da08cdda5b"
      },
      "source": [
        "obj_Blowfish = Blowfish_Encryption(\"54 68 61 74 73 20 6D 79 20 4b 75 6E 67 20 46 75\")\n",
        "plain_text = input(\"Please Enter plain-text:\")\n",
        "start_time = time.time()\n",
        "encrypted_text = obj_Blowfish.encrypt(str(plain_text))\n",
        "elapsed_time = time.time() - start_time\n",
        "print(encrypted_text)\n",
        "\n",
        "print(\"TIme used by algorithm for encyption is:-\",elapsed_time)"
      ],
      "execution_count": null,
      "outputs": [
        {
          "output_type": "stream",
          "text": [
            "Please Enter plain-text:Ruchit Vora\n",
            "9jtwLVo4t68QiWRomlI81iM5uKhrg14H\n",
            "TIme used by algorithm for encyption is:- 0.0011775493621826172\n"
          ],
          "name": "stdout"
        }
      ]
    },
    {
      "cell_type": "code",
      "metadata": {
        "colab": {
          "base_uri": "https://localhost:8080/"
        },
        "id": "pdbSuMLCeEtA",
        "outputId": "885d4c1b-22bc-4896-e659-b94dffbfc371"
      },
      "source": [
        "decrypted_text = obj_Blowfish.decrypt(encrypted_text)\n",
        "print(\"Decryptected Text is :\", decrypted_text)"
      ],
      "execution_count": null,
      "outputs": [
        {
          "output_type": "stream",
          "text": [
            "Decryptected Text is : Ruchit Vora\n"
          ],
          "name": "stdout"
        }
      ]
    },
    {
      "cell_type": "code",
      "metadata": {
        "colab": {
          "base_uri": "https://localhost:8080/"
        },
        "id": "tUG5c2x-VCwB",
        "outputId": "132588d4-ca24-4089-cd79-c6bc2fe10ec8"
      },
      "source": [
        "plain_text = input(\"Please Enter plain-text:\")\n",
        "encrypted_text2 = obj_Blowfish.encrypt(str(plain_text))\n",
        "print(encrypted_text2)\n",
        "\n",
        "ham_distance = hamming(encrypted_text2,encrypted_text) * len(encrypted_text)\n",
        "print(ham_distance)\n"
      ],
      "execution_count": null,
      "outputs": [
        {
          "output_type": "stream",
          "text": [
            "Please Enter plain-text:ruchit vora\n",
            "srLiRILedOE1pwT+t7JJ4CM5uKhrg14H\n",
            "32.0\n"
          ],
          "name": "stdout"
        }
      ]
    },
    {
      "cell_type": "code",
      "metadata": {
        "id": "EQ5q55u1VSDU"
      },
      "source": [
        ""
      ],
      "execution_count": null,
      "outputs": []
    }
  ]
}