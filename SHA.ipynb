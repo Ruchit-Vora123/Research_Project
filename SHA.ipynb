{
  "nbformat": 4,
  "nbformat_minor": 0,
  "metadata": {
    "colab": {
      "name": "SHA.ipynb",
      "provenance": []
    },
    "kernelspec": {
      "name": "python3",
      "display_name": "Python 3"
    },
    "language_info": {
      "name": "python"
    }
  },
  "cells": [
    {
      "cell_type": "code",
      "metadata": {
        "id": "uZWm491o-a0h"
      },
      "source": [
        "import hashlib\n",
        "from scipy.spatial.distance import hamming \n",
        "import time"
      ],
      "execution_count": 5,
      "outputs": []
    },
    {
      "cell_type": "code",
      "metadata": {
        "colab": {
          "base_uri": "https://localhost:8080/"
        },
        "id": "c2wp0i7zAlwQ",
        "outputId": "3c63dde4-19f1-4226-dad5-83410d1f682e"
      },
      "source": [
        "# initializing string\n",
        "str = \"Ruchit Vora\"\n",
        "  \n",
        "# encoding  using encode()\n",
        "# then sending to SHA1()\n",
        "start_time = time.time()\n",
        "result = hashlib.sha1(str.encode())\n",
        "print(result)\n",
        "  \n",
        "# printing the equivalent hexadecimal value.\n",
        "print(\"The hexadecimal equivalent of SHA1 is : \")\n",
        "\n",
        "elapsed_time = time.time() - start_time\n",
        "print(\"Time for encryption is:- \",elapsed_time)\n",
        "print(result.hexdigest())\n",
        "\n",
        "str1 = \"ruchit vora\"\n",
        "result2 = hashlib.sha1(str1.encode())\n",
        "print(\"Hamming distsance:\",hamming(result.hexdigest(),result2.hexdigest()) * len(result.hexdigest()))"
      ],
      "execution_count": 6,
      "outputs": [
        {
          "output_type": "stream",
          "text": [
            "<sha1 HASH object @ 0x7febd4c891e0>\n",
            "The hexadecimal equivalent of SHA1 is : \n",
            "Time for encryption is:-  0.001104593276977539\n",
            "d116905aa7087dcaed5423abf23ec737fea61c0e\n",
            "Hamming distsance: 40.0\n"
          ],
          "name": "stdout"
        }
      ]
    },
    {
      "cell_type": "code",
      "metadata": {
        "colab": {
          "base_uri": "https://localhost:8080/"
        },
        "id": "wqCGu_QOAsgy",
        "outputId": "7fbc3719-983f-4252-82ba-8934b1727b39"
      },
      "source": [
        "# initializing string\n",
        "str = \"Ruchit Vora\"\n",
        "  \n",
        "# encoding  using encode()\n",
        "# then sending to SHA224()\n",
        "start_time = time.time()\n",
        "\n",
        "result = hashlib.sha224(str.encode())\n",
        "  \n",
        "# printing the equivalent hexadecimal value.\n",
        "print(\"The hexadecimal equivalent of SHA224 is : \")\n",
        "elapsed_time = time.time() - start_time\n",
        "print(\"Time for encryption is:- \",elapsed_time)\n",
        "\n",
        "print(result.hexdigest())\n",
        "\n",
        "\n",
        "str1 = \"ruchit vora\"\n",
        "result2 = hashlib.sha1(str1.encode())\n",
        "print(\"Hamming distsance:\",hamming(result.hexdigest(),result2.hexdigest()) * len(result.hexdigest()))"
      ],
      "execution_count": 7,
      "outputs": [
        {
          "output_type": "stream",
          "text": [
            "The hexadecimal equivalent of SHA224 is : \n",
            "Time for encryption is:-  0.0007407665252685547\n",
            "b4b4d1ad600538d63119a351bad8173a4869254a82dcd3eac450b3f8\n",
            "Hamming distsance: 56.0\n"
          ],
          "name": "stdout"
        }
      ]
    },
    {
      "cell_type": "code",
      "metadata": {
        "colab": {
          "base_uri": "https://localhost:8080/"
        },
        "id": "uuykdtEs-ceG",
        "outputId": "6dd3af7a-4f5e-4308-da28-53269a941ce5"
      },
      "source": [
        "# initializing string\n",
        "str = \"Ruchit Vora\"\n",
        "  \n",
        "# encoding  using encode()\n",
        "# then sending to SHA256()\n",
        "start_time = time.time()\n",
        "result = hashlib.sha256(str.encode())\n",
        "  \n",
        "# printing the equivalent hexadecimal value.\n",
        "print(\"The hexadecimal equivalent of SHA256 is : \")\n",
        "elapsed_time = time.time() - start_time\n",
        "\n",
        "print(\"Time for encryption is:- \",elapsed_time)\n",
        "\n",
        "print(result.hexdigest())\n",
        "\n",
        "\n",
        "str1 = \"ruchit vora\"\n",
        "result2 = hashlib.sha1(str1.encode())\n",
        "print(\"Hamming distsance:\",hamming(result.hexdigest(),result2.hexdigest()) * len(result.hexdigest()))"
      ],
      "execution_count": 8,
      "outputs": [
        {
          "output_type": "stream",
          "text": [
            "The hexadecimal equivalent of SHA256 is : \n",
            "Time for encryption is:-  0.0006496906280517578\n",
            "622f3e0686dfcf74fe3037e1a4e1ec10d50596f028a29399bcdac075b32a226c\n",
            "Hamming distsance: 64.0\n"
          ],
          "name": "stdout"
        }
      ]
    },
    {
      "cell_type": "code",
      "metadata": {
        "colab": {
          "base_uri": "https://localhost:8080/"
        },
        "id": "Nl6oN05--ub_",
        "outputId": "c69dd095-51a4-434e-fc5e-ece6dfaae76c"
      },
      "source": [
        "# initializing string\n",
        "str = \"Ruchit Vora\"\n",
        "  \n",
        "# encoding  using encode()\n",
        "# then sending to SHA384()\n",
        "start_time = time.time()\n",
        "result = hashlib.sha384(str.encode())\n",
        "  \n",
        "# printing the equivalent hexadecimal value.\n",
        "print(\"The hexadecimal equivalent of SHA384 is : \")\n",
        "\n",
        "elapsed_time = time.time() - start_time\n",
        "print(\"Time for encryption is:- \",elapsed_time)\n",
        "\n",
        "print(result.hexdigest())\n",
        "\n",
        "\n",
        "str1 = \"ruchit vora\"\n",
        "result2 = hashlib.sha1(str1.encode())\n",
        "print(\"Hamming distsance:\",hamming(result.hexdigest(),result2.hexdigest()) * len(result.hexdigest()))"
      ],
      "execution_count": 9,
      "outputs": [
        {
          "output_type": "stream",
          "text": [
            "The hexadecimal equivalent of SHA384 is : \n",
            "Time for encryption is:-  0.0012927055358886719\n",
            "34c09c86dfbcd3ef0a8a2afee3c8eaf504692bddb9970eeb3c397699b3f05cae4c0cad72cf55d5584d295602989bd619\n",
            "Hamming distsance: 96.0\n"
          ],
          "name": "stdout"
        }
      ]
    },
    {
      "cell_type": "code",
      "metadata": {
        "colab": {
          "base_uri": "https://localhost:8080/"
        },
        "id": "3-Off0d8-8fv",
        "outputId": "f49444ee-2ea1-4721-c59b-c4799a675a84"
      },
      "source": [
        "# initializing string\n",
        "str = \"Ruchit Vora\"\n",
        "  \n",
        "# encoding  using encode()\n",
        "# then sending to SHA512()\n",
        "start_time = time.time()\n",
        "result = hashlib.sha512(str.encode())\n",
        "\n",
        "  \n",
        "# printing the equivalent hexadecimal value.\n",
        "print(\"The hexadecimal equivalent of SHA512 is : \")\n",
        "\n",
        "elapsed_time = time.time() - start_time\n",
        "print(\"Time for encryption is:- \",elapsed_time)\n",
        "\n",
        "print(result.hexdigest())\n",
        "\n",
        "\n",
        "str1 = \"ruchit vora\"\n",
        "result2 = hashlib.sha1(str1.encode())\n",
        "print(\"Hamming distsance:\",hamming(result.hexdigest(),result2.hexdigest()) * len(result.hexdigest()))"
      ],
      "execution_count": 11,
      "outputs": [
        {
          "output_type": "stream",
          "text": [
            "The hexadecimal equivalent of SHA512 is : \n",
            "Time for encryption is:-  0.0018231868743896484\n",
            "8f339ee2bc689c01acf46694d0455352f73b6c66308e6a77aab044cbaf16ddc80496326295d3a544c73b691e64d631d61db9713f7cbcad74b9a1f98eeee6cb14\n",
            "Hamming distsance: 128.0\n"
          ],
          "name": "stdout"
        }
      ]
    }
  ]
}