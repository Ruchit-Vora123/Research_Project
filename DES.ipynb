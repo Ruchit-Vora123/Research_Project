{
  "nbformat": 4,
  "nbformat_minor": 0,
  "metadata": {
    "colab": {
      "name": "DES.ipynb",
      "provenance": []
    },
    "kernelspec": {
      "name": "python3",
      "display_name": "Python 3"
    },
    "language_info": {
      "name": "python"
    }
  },
  "cells": [
    {
      "cell_type": "code",
      "metadata": {
        "colab": {
          "base_uri": "https://localhost:8080/"
        },
        "id": "TLzxjhzZ0B5x",
        "outputId": "aafc8ca9-7ae1-49c8-ed2f-bdac9f6924a3"
      },
      "source": [
        "#Library for implementing cryptographic algorithms\n",
        "from scipy.spatial.distance import hamming \n",
        "\n",
        "!pip install cryptography\n",
        "import time"
      ],
      "execution_count": null,
      "outputs": [
        {
          "output_type": "stream",
          "text": [
            "Collecting cryptography\n",
            "  Downloading cryptography-3.4.7-cp36-abi3-manylinux2014_x86_64.whl (3.2 MB)\n",
            "\u001b[K     |████████████████████████████████| 3.2 MB 5.2 MB/s \n",
            "\u001b[?25hRequirement already satisfied: cffi>=1.12 in /usr/local/lib/python3.7/dist-packages (from cryptography) (1.14.6)\n",
            "Requirement already satisfied: pycparser in /usr/local/lib/python3.7/dist-packages (from cffi>=1.12->cryptography) (2.20)\n",
            "Installing collected packages: cryptography\n",
            "Successfully installed cryptography-3.4.7\n"
          ],
          "name": "stdout"
        }
      ]
    },
    {
      "cell_type": "code",
      "metadata": {
        "id": "ON_YrP6kx-a7"
      },
      "source": [
        "from  cryptography.fernet import Fernet\n",
        "from base64 import b64encode, b64decode"
      ],
      "execution_count": null,
      "outputs": []
    },
    {
      "cell_type": "code",
      "metadata": {
        "id": "wbF96P8iyMI4"
      },
      "source": [
        "class DES_Encryption:\n",
        "  def __init__(self):\n",
        "    #self.block_size = Fernet.block_size\n",
        "    self.key = Fernet.generate_key()\n",
        "\n",
        "  #Encryption Function\n",
        "  def encrypt(self, plain_text):\n",
        "    #plain_text = self.__pad(plain_text)\n",
        "    #iv = Random.new().read(self.block_size)\n",
        "    self.cipher = Fernet(self.key)\n",
        "\n",
        "    '''encode plaintext using b64encode'''\n",
        "    encrypted_text = self.cipher.encrypt(plain_text.encode())\n",
        "    return b64encode(encrypted_text).decode(\"utf-8\")\n",
        "\n",
        "  #Decryption function\n",
        "  def decrypt(self, encrypted_text):\n",
        "\n",
        "    '''decode encrypted text using b64decode'''\n",
        "    encrypted_text = b64decode(encrypted_text)\n",
        "    #iv = encrypted_text[:self.block_size]\n",
        "    plain_text = self.cipher.decrypt(encrypted_text).decode(\"utf-8\")\n",
        "    return plain_text\n",
        "\n",
        "  #padding function\n",
        "  def __pad(self, plain_text):\n",
        "    number_of_bytes_to_pad = self.block_size - len(plain_text) % self.block_size\n",
        "    ascii_string = chr(number_of_bytes_to_pad)\n",
        "    padding_str = number_of_bytes_to_pad * ascii_string\n",
        "    padded_plain_text = plain_text + padding_str\n",
        "    return padded_plain_text\n",
        "\n",
        "  @staticmethod\n",
        "  def __unpad(plain_text):\n",
        "    last_character = plain_text[len(plain_text) - 1:]\n",
        "    return plain_text[:-ord(last_character)]\n"
      ],
      "execution_count": null,
      "outputs": []
    },
    {
      "cell_type": "code",
      "metadata": {
        "colab": {
          "base_uri": "https://localhost:8080/"
        },
        "id": "6K_-oXlw07Va",
        "outputId": "1fd9f525-5ecf-4cd3-b010-abd9e35c27b7"
      },
      "source": [
        "obj_DES = DES_Encryption()\n",
        "\n",
        "plain_text = input(\"Please Enter plain text:-\")\n",
        "start_time = time.time()\n",
        "encrypted_text = obj_DES.encrypt(plain_text)\n",
        "elapsed_time = time.time() - start_time\n",
        "print(encrypted_text)\n",
        "\n",
        "print(\"Time used by algorithm to encrypt :-\", elapsed_time)"
      ],
      "execution_count": null,
      "outputs": [
        {
          "output_type": "stream",
          "text": [
            "Please Enter plain text:-Ruchit Vora\n",
            "Z0FBQUFBQmhIRDJneElnWlQxX0pfdkRhcjdEaDc3TElpUXBjUXl2eTFWZmwxbzBYX0dlV0VFcVJJUTdVQjBRWnpVTFJMeTNYcGNSVXV1SXQxS1ZaVndnNnFZWHRVUUZqWGc9PQ==\n",
            "Time used by algorithm to encrypt :- 0.04855680465698242\n"
          ],
          "name": "stdout"
        }
      ]
    },
    {
      "cell_type": "code",
      "metadata": {
        "colab": {
          "base_uri": "https://localhost:8080/"
        },
        "id": "qMD5r7c-1K1i",
        "outputId": "99a56de2-019b-480a-e573-1236d6533de4"
      },
      "source": [
        "decrypted_text = obj_DES.decrypt(encrypted_text)\n",
        "print(\"Decryptected Text is :\" ,decrypted_text)\n"
      ],
      "execution_count": null,
      "outputs": [
        {
          "output_type": "stream",
          "text": [
            "Decryptected Text is : Ruchit Vora\n"
          ],
          "name": "stdout"
        }
      ]
    },
    {
      "cell_type": "code",
      "metadata": {
        "colab": {
          "base_uri": "https://localhost:8080/"
        },
        "id": "CKM4dKWhTfCx",
        "outputId": "721c7690-b6d6-4e9c-b749-d9c866b981c7"
      },
      "source": [
        "plain_text2 = input(\"Please Enter plain text:-\")\n",
        "encrypted_text2 = obj_DES.encrypt(plain_text)\n",
        "print(encrypted_text2)\n",
        "\n",
        "ham_distance = hamming(encrypted_text2,encrypted_text) * len(encrypted_text)\n",
        "print(ham_distance)"
      ],
      "execution_count": null,
      "outputs": [
        {
          "output_type": "stream",
          "text": [
            "Please Enter plain text:-ruchit vora\n",
            "Z0FBQUFBQmhIRDJwenBvb2pxOWhQZHU1MTBIZl96NGwxVmZjOWhxLXFRQ01VdHR5U2VwRlRpZWQtX1ZFbDY3UTBsN0lMbjIwMDM0X0l0Rk1aenR4N0JzZjBncDZsVHBBRkE9PQ==\n",
            "136.0\n"
          ],
          "name": "stdout"
        }
      ]
    }
  ]
}