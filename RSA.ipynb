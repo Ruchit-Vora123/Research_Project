{
  "nbformat": 4,
  "nbformat_minor": 0,
  "metadata": {
    "colab": {
      "name": "RSA.ipynb",
      "provenance": [],
      "collapsed_sections": []
    },
    "kernelspec": {
      "name": "python3",
      "display_name": "Python 3"
    },
    "language_info": {
      "name": "python"
    }
  },
  "cells": [
    {
      "cell_type": "code",
      "metadata": {
        "colab": {
          "base_uri": "https://localhost:8080/"
        },
        "id": "trLtsYjqpAID",
        "outputId": "3df087d6-adc7-49f3-8153-835d1a6f9af1"
      },
      "source": [
        "#Library for implementing cryptographic algorithms\n",
        "!pip install pycryptodome\n",
        "import time\n",
        "from scipy.spatial.distance import hamming"
      ],
      "execution_count": null,
      "outputs": [
        {
          "output_type": "stream",
          "text": [
            "Collecting pycryptodome\n",
            "  Downloading pycryptodome-3.10.1-cp35-abi3-manylinux2010_x86_64.whl (1.9 MB)\n",
            "\u001b[?25l\r\u001b[K     |▏                               | 10 kB 15.8 MB/s eta 0:00:01\r\u001b[K     |▍                               | 20 kB 19.5 MB/s eta 0:00:01\r\u001b[K     |▌                               | 30 kB 20.7 MB/s eta 0:00:01\r\u001b[K     |▊                               | 40 kB 21.5 MB/s eta 0:00:01\r\u001b[K     |▉                               | 51 kB 22.9 MB/s eta 0:00:01\r\u001b[K     |█                               | 61 kB 23.2 MB/s eta 0:00:01\r\u001b[K     |█▏                              | 71 kB 24.4 MB/s eta 0:00:01\r\u001b[K     |█▍                              | 81 kB 25.3 MB/s eta 0:00:01\r\u001b[K     |█▌                              | 92 kB 27.0 MB/s eta 0:00:01\r\u001b[K     |█▊                              | 102 kB 26.2 MB/s eta 0:00:01\r\u001b[K     |█▉                              | 112 kB 26.2 MB/s eta 0:00:01\r\u001b[K     |██                              | 122 kB 26.2 MB/s eta 0:00:01\r\u001b[K     |██▏                             | 133 kB 26.2 MB/s eta 0:00:01\r\u001b[K     |██▍                             | 143 kB 26.2 MB/s eta 0:00:01\r\u001b[K     |██▋                             | 153 kB 26.2 MB/s eta 0:00:01\r\u001b[K     |██▊                             | 163 kB 26.2 MB/s eta 0:00:01\r\u001b[K     |███                             | 174 kB 26.2 MB/s eta 0:00:01\r\u001b[K     |███                             | 184 kB 26.2 MB/s eta 0:00:01\r\u001b[K     |███▎                            | 194 kB 26.2 MB/s eta 0:00:01\r\u001b[K     |███▍                            | 204 kB 26.2 MB/s eta 0:00:01\r\u001b[K     |███▋                            | 215 kB 26.2 MB/s eta 0:00:01\r\u001b[K     |███▊                            | 225 kB 26.2 MB/s eta 0:00:01\r\u001b[K     |████                            | 235 kB 26.2 MB/s eta 0:00:01\r\u001b[K     |████                            | 245 kB 26.2 MB/s eta 0:00:01\r\u001b[K     |████▎                           | 256 kB 26.2 MB/s eta 0:00:01\r\u001b[K     |████▍                           | 266 kB 26.2 MB/s eta 0:00:01\r\u001b[K     |████▋                           | 276 kB 26.2 MB/s eta 0:00:01\r\u001b[K     |████▊                           | 286 kB 26.2 MB/s eta 0:00:01\r\u001b[K     |█████                           | 296 kB 26.2 MB/s eta 0:00:01\r\u001b[K     |█████▏                          | 307 kB 26.2 MB/s eta 0:00:01\r\u001b[K     |█████▎                          | 317 kB 26.2 MB/s eta 0:00:01\r\u001b[K     |█████▌                          | 327 kB 26.2 MB/s eta 0:00:01\r\u001b[K     |█████▋                          | 337 kB 26.2 MB/s eta 0:00:01\r\u001b[K     |█████▉                          | 348 kB 26.2 MB/s eta 0:00:01\r\u001b[K     |██████                          | 358 kB 26.2 MB/s eta 0:00:01\r\u001b[K     |██████▏                         | 368 kB 26.2 MB/s eta 0:00:01\r\u001b[K     |██████▎                         | 378 kB 26.2 MB/s eta 0:00:01\r\u001b[K     |██████▌                         | 389 kB 26.2 MB/s eta 0:00:01\r\u001b[K     |██████▋                         | 399 kB 26.2 MB/s eta 0:00:01\r\u001b[K     |██████▉                         | 409 kB 26.2 MB/s eta 0:00:01\r\u001b[K     |███████                         | 419 kB 26.2 MB/s eta 0:00:01\r\u001b[K     |███████▏                        | 430 kB 26.2 MB/s eta 0:00:01\r\u001b[K     |███████▎                        | 440 kB 26.2 MB/s eta 0:00:01\r\u001b[K     |███████▌                        | 450 kB 26.2 MB/s eta 0:00:01\r\u001b[K     |███████▊                        | 460 kB 26.2 MB/s eta 0:00:01\r\u001b[K     |███████▉                        | 471 kB 26.2 MB/s eta 0:00:01\r\u001b[K     |████████                        | 481 kB 26.2 MB/s eta 0:00:01\r\u001b[K     |████████▏                       | 491 kB 26.2 MB/s eta 0:00:01\r\u001b[K     |████████▍                       | 501 kB 26.2 MB/s eta 0:00:01\r\u001b[K     |████████▌                       | 512 kB 26.2 MB/s eta 0:00:01\r\u001b[K     |████████▊                       | 522 kB 26.2 MB/s eta 0:00:01\r\u001b[K     |████████▉                       | 532 kB 26.2 MB/s eta 0:00:01\r\u001b[K     |█████████                       | 542 kB 26.2 MB/s eta 0:00:01\r\u001b[K     |█████████▏                      | 552 kB 26.2 MB/s eta 0:00:01\r\u001b[K     |█████████▍                      | 563 kB 26.2 MB/s eta 0:00:01\r\u001b[K     |█████████▌                      | 573 kB 26.2 MB/s eta 0:00:01\r\u001b[K     |█████████▊                      | 583 kB 26.2 MB/s eta 0:00:01\r\u001b[K     |█████████▉                      | 593 kB 26.2 MB/s eta 0:00:01\r\u001b[K     |██████████                      | 604 kB 26.2 MB/s eta 0:00:01\r\u001b[K     |██████████▎                     | 614 kB 26.2 MB/s eta 0:00:01\r\u001b[K     |██████████▍                     | 624 kB 26.2 MB/s eta 0:00:01\r\u001b[K     |██████████▋                     | 634 kB 26.2 MB/s eta 0:00:01\r\u001b[K     |██████████▊                     | 645 kB 26.2 MB/s eta 0:00:01\r\u001b[K     |███████████                     | 655 kB 26.2 MB/s eta 0:00:01\r\u001b[K     |███████████                     | 665 kB 26.2 MB/s eta 0:00:01\r\u001b[K     |███████████▎                    | 675 kB 26.2 MB/s eta 0:00:01\r\u001b[K     |███████████▍                    | 686 kB 26.2 MB/s eta 0:00:01\r\u001b[K     |███████████▋                    | 696 kB 26.2 MB/s eta 0:00:01\r\u001b[K     |███████████▊                    | 706 kB 26.2 MB/s eta 0:00:01\r\u001b[K     |████████████                    | 716 kB 26.2 MB/s eta 0:00:01\r\u001b[K     |████████████                    | 727 kB 26.2 MB/s eta 0:00:01\r\u001b[K     |████████████▎                   | 737 kB 26.2 MB/s eta 0:00:01\r\u001b[K     |████████████▍                   | 747 kB 26.2 MB/s eta 0:00:01\r\u001b[K     |████████████▋                   | 757 kB 26.2 MB/s eta 0:00:01\r\u001b[K     |████████████▉                   | 768 kB 26.2 MB/s eta 0:00:01\r\u001b[K     |█████████████                   | 778 kB 26.2 MB/s eta 0:00:01\r\u001b[K     |█████████████▏                  | 788 kB 26.2 MB/s eta 0:00:01\r\u001b[K     |█████████████▎                  | 798 kB 26.2 MB/s eta 0:00:01\r\u001b[K     |█████████████▌                  | 808 kB 26.2 MB/s eta 0:00:01\r\u001b[K     |█████████████▋                  | 819 kB 26.2 MB/s eta 0:00:01\r\u001b[K     |█████████████▉                  | 829 kB 26.2 MB/s eta 0:00:01\r\u001b[K     |██████████████                  | 839 kB 26.2 MB/s eta 0:00:01\r\u001b[K     |██████████████▏                 | 849 kB 26.2 MB/s eta 0:00:01\r\u001b[K     |██████████████▎                 | 860 kB 26.2 MB/s eta 0:00:01\r\u001b[K     |██████████████▌                 | 870 kB 26.2 MB/s eta 0:00:01\r\u001b[K     |██████████████▋                 | 880 kB 26.2 MB/s eta 0:00:01\r\u001b[K     |██████████████▉                 | 890 kB 26.2 MB/s eta 0:00:01\r\u001b[K     |███████████████                 | 901 kB 26.2 MB/s eta 0:00:01\r\u001b[K     |███████████████▏                | 911 kB 26.2 MB/s eta 0:00:01\r\u001b[K     |███████████████▍                | 921 kB 26.2 MB/s eta 0:00:01\r\u001b[K     |███████████████▌                | 931 kB 26.2 MB/s eta 0:00:01\r\u001b[K     |███████████████▊                | 942 kB 26.2 MB/s eta 0:00:01\r\u001b[K     |███████████████▉                | 952 kB 26.2 MB/s eta 0:00:01\r\u001b[K     |████████████████                | 962 kB 26.2 MB/s eta 0:00:01\r\u001b[K     |████████████████▏               | 972 kB 26.2 MB/s eta 0:00:01\r\u001b[K     |████████████████▍               | 983 kB 26.2 MB/s eta 0:00:01\r\u001b[K     |████████████████▌               | 993 kB 26.2 MB/s eta 0:00:01\r\u001b[K     |████████████████▊               | 1.0 MB 26.2 MB/s eta 0:00:01\r\u001b[K     |████████████████▉               | 1.0 MB 26.2 MB/s eta 0:00:01\r\u001b[K     |█████████████████               | 1.0 MB 26.2 MB/s eta 0:00:01\r\u001b[K     |█████████████████▏              | 1.0 MB 26.2 MB/s eta 0:00:01\r\u001b[K     |█████████████████▍              | 1.0 MB 26.2 MB/s eta 0:00:01\r\u001b[K     |█████████████████▌              | 1.1 MB 26.2 MB/s eta 0:00:01\r\u001b[K     |█████████████████▊              | 1.1 MB 26.2 MB/s eta 0:00:01\r\u001b[K     |██████████████████              | 1.1 MB 26.2 MB/s eta 0:00:01\r\u001b[K     |██████████████████              | 1.1 MB 26.2 MB/s eta 0:00:01\r\u001b[K     |██████████████████▎             | 1.1 MB 26.2 MB/s eta 0:00:01\r\u001b[K     |██████████████████▍             | 1.1 MB 26.2 MB/s eta 0:00:01\r\u001b[K     |██████████████████▋             | 1.1 MB 26.2 MB/s eta 0:00:01\r\u001b[K     |██████████████████▊             | 1.1 MB 26.2 MB/s eta 0:00:01\r\u001b[K     |███████████████████             | 1.1 MB 26.2 MB/s eta 0:00:01\r\u001b[K     |███████████████████             | 1.1 MB 26.2 MB/s eta 0:00:01\r\u001b[K     |███████████████████▎            | 1.2 MB 26.2 MB/s eta 0:00:01\r\u001b[K     |███████████████████▍            | 1.2 MB 26.2 MB/s eta 0:00:01\r\u001b[K     |███████████████████▋            | 1.2 MB 26.2 MB/s eta 0:00:01\r\u001b[K     |███████████████████▊            | 1.2 MB 26.2 MB/s eta 0:00:01\r\u001b[K     |████████████████████            | 1.2 MB 26.2 MB/s eta 0:00:01\r\u001b[K     |████████████████████            | 1.2 MB 26.2 MB/s eta 0:00:01\r\u001b[K     |████████████████████▎           | 1.2 MB 26.2 MB/s eta 0:00:01\r\u001b[K     |████████████████████▌           | 1.2 MB 26.2 MB/s eta 0:00:01\r\u001b[K     |████████████████████▋           | 1.2 MB 26.2 MB/s eta 0:00:01\r\u001b[K     |████████████████████▉           | 1.2 MB 26.2 MB/s eta 0:00:01\r\u001b[K     |█████████████████████           | 1.3 MB 26.2 MB/s eta 0:00:01\r\u001b[K     |█████████████████████▏          | 1.3 MB 26.2 MB/s eta 0:00:01\r\u001b[K     |█████████████████████▎          | 1.3 MB 26.2 MB/s eta 0:00:01\r\u001b[K     |█████████████████████▌          | 1.3 MB 26.2 MB/s eta 0:00:01\r\u001b[K     |█████████████████████▋          | 1.3 MB 26.2 MB/s eta 0:00:01\r\u001b[K     |█████████████████████▉          | 1.3 MB 26.2 MB/s eta 0:00:01\r\u001b[K     |██████████████████████          | 1.3 MB 26.2 MB/s eta 0:00:01\r\u001b[K     |██████████████████████▏         | 1.3 MB 26.2 MB/s eta 0:00:01\r\u001b[K     |██████████████████████▎         | 1.3 MB 26.2 MB/s eta 0:00:01\r\u001b[K     |██████████████████████▌         | 1.4 MB 26.2 MB/s eta 0:00:01\r\u001b[K     |██████████████████████▋         | 1.4 MB 26.2 MB/s eta 0:00:01\r\u001b[K     |██████████████████████▉         | 1.4 MB 26.2 MB/s eta 0:00:01\r\u001b[K     |███████████████████████         | 1.4 MB 26.2 MB/s eta 0:00:01\r\u001b[K     |███████████████████████▏        | 1.4 MB 26.2 MB/s eta 0:00:01\r\u001b[K     |███████████████████████▍        | 1.4 MB 26.2 MB/s eta 0:00:01\r\u001b[K     |███████████████████████▌        | 1.4 MB 26.2 MB/s eta 0:00:01\r\u001b[K     |███████████████████████▊        | 1.4 MB 26.2 MB/s eta 0:00:01\r\u001b[K     |███████████████████████▉        | 1.4 MB 26.2 MB/s eta 0:00:01\r\u001b[K     |████████████████████████        | 1.4 MB 26.2 MB/s eta 0:00:01\r\u001b[K     |████████████████████████▏       | 1.5 MB 26.2 MB/s eta 0:00:01\r\u001b[K     |████████████████████████▍       | 1.5 MB 26.2 MB/s eta 0:00:01\r\u001b[K     |████████████████████████▌       | 1.5 MB 26.2 MB/s eta 0:00:01\r\u001b[K     |████████████████████████▊       | 1.5 MB 26.2 MB/s eta 0:00:01\r\u001b[K     |████████████████████████▉       | 1.5 MB 26.2 MB/s eta 0:00:01\r\u001b[K     |█████████████████████████       | 1.5 MB 26.2 MB/s eta 0:00:01\r\u001b[K     |█████████████████████████▏      | 1.5 MB 26.2 MB/s eta 0:00:01\r\u001b[K     |█████████████████████████▍      | 1.5 MB 26.2 MB/s eta 0:00:01\r\u001b[K     |█████████████████████████▋      | 1.5 MB 26.2 MB/s eta 0:00:01\r\u001b[K     |█████████████████████████▊      | 1.5 MB 26.2 MB/s eta 0:00:01\r\u001b[K     |██████████████████████████      | 1.6 MB 26.2 MB/s eta 0:00:01\r\u001b[K     |██████████████████████████      | 1.6 MB 26.2 MB/s eta 0:00:01\r\u001b[K     |██████████████████████████▎     | 1.6 MB 26.2 MB/s eta 0:00:01\r\u001b[K     |██████████████████████████▍     | 1.6 MB 26.2 MB/s eta 0:00:01\r\u001b[K     |██████████████████████████▋     | 1.6 MB 26.2 MB/s eta 0:00:01\r\u001b[K     |██████████████████████████▊     | 1.6 MB 26.2 MB/s eta 0:00:01\r\u001b[K     |███████████████████████████     | 1.6 MB 26.2 MB/s eta 0:00:01\r\u001b[K     |███████████████████████████     | 1.6 MB 26.2 MB/s eta 0:00:01\r\u001b[K     |███████████████████████████▎    | 1.6 MB 26.2 MB/s eta 0:00:01\r\u001b[K     |███████████████████████████▍    | 1.6 MB 26.2 MB/s eta 0:00:01\r\u001b[K     |███████████████████████████▋    | 1.7 MB 26.2 MB/s eta 0:00:01\r\u001b[K     |███████████████████████████▊    | 1.7 MB 26.2 MB/s eta 0:00:01\r\u001b[K     |████████████████████████████    | 1.7 MB 26.2 MB/s eta 0:00:01\r\u001b[K     |████████████████████████████▏   | 1.7 MB 26.2 MB/s eta 0:00:01\r\u001b[K     |████████████████████████████▎   | 1.7 MB 26.2 MB/s eta 0:00:01\r\u001b[K     |████████████████████████████▌   | 1.7 MB 26.2 MB/s eta 0:00:01\r\u001b[K     |████████████████████████████▋   | 1.7 MB 26.2 MB/s eta 0:00:01\r\u001b[K     |████████████████████████████▉   | 1.7 MB 26.2 MB/s eta 0:00:01\r\u001b[K     |█████████████████████████████   | 1.7 MB 26.2 MB/s eta 0:00:01\r\u001b[K     |█████████████████████████████▏  | 1.8 MB 26.2 MB/s eta 0:00:01\r\u001b[K     |█████████████████████████████▎  | 1.8 MB 26.2 MB/s eta 0:00:01\r\u001b[K     |█████████████████████████████▌  | 1.8 MB 26.2 MB/s eta 0:00:01\r\u001b[K     |█████████████████████████████▋  | 1.8 MB 26.2 MB/s eta 0:00:01\r\u001b[K     |█████████████████████████████▉  | 1.8 MB 26.2 MB/s eta 0:00:01\r\u001b[K     |██████████████████████████████  | 1.8 MB 26.2 MB/s eta 0:00:01\r\u001b[K     |██████████████████████████████▏ | 1.8 MB 26.2 MB/s eta 0:00:01\r\u001b[K     |██████████████████████████████▎ | 1.8 MB 26.2 MB/s eta 0:00:01\r\u001b[K     |██████████████████████████████▌ | 1.8 MB 26.2 MB/s eta 0:00:01\r\u001b[K     |██████████████████████████████▊ | 1.8 MB 26.2 MB/s eta 0:00:01\r\u001b[K     |██████████████████████████████▉ | 1.9 MB 26.2 MB/s eta 0:00:01\r\u001b[K     |███████████████████████████████ | 1.9 MB 26.2 MB/s eta 0:00:01\r\u001b[K     |███████████████████████████████▏| 1.9 MB 26.2 MB/s eta 0:00:01\r\u001b[K     |███████████████████████████████▍| 1.9 MB 26.2 MB/s eta 0:00:01\r\u001b[K     |███████████████████████████████▌| 1.9 MB 26.2 MB/s eta 0:00:01\r\u001b[K     |███████████████████████████████▊| 1.9 MB 26.2 MB/s eta 0:00:01\r\u001b[K     |███████████████████████████████▉| 1.9 MB 26.2 MB/s eta 0:00:01\r\u001b[K     |████████████████████████████████| 1.9 MB 26.2 MB/s \n",
            "\u001b[?25hInstalling collected packages: pycryptodome\n",
            "Successfully installed pycryptodome-3.10.1\n"
          ],
          "name": "stdout"
        }
      ]
    },
    {
      "cell_type": "code",
      "metadata": {
        "id": "ndhFJmXmpOsm"
      },
      "source": [
        "import hashlib\n",
        "from Crypto import Random\n",
        "from Crypto.PublicKey import RSA\n",
        "from Crypto.Cipher import PKCS1_OAEP\n",
        "import binascii\n",
        "from base64 import b64encode, b64decode"
      ],
      "execution_count": null,
      "outputs": []
    },
    {
      "cell_type": "code",
      "metadata": {
        "id": "vbaE_f9UGk9Y"
      },
      "source": [
        "#initialize block size and generating key\n",
        "keyPair = RSA.generate(1024)\n",
        "default_length = 128"
      ],
      "execution_count": null,
      "outputs": []
    },
    {
      "cell_type": "code",
      "metadata": {
        "id": "l0Zc3Yt8o76W"
      },
      "source": [
        "class RSA_algorithm():\n",
        "  def __init__(self):\n",
        "    # random_generator = Random.new().read\n",
        "    # self.keys = RSA.generate(1024,random) \n",
        "    #keyPair = RSA.generate(1024)\n",
        "    self.pubKey = keyPair.publickey()\n",
        "    pubKeyPEM = self.pubKey.exportKey()\n",
        "    self.privKeyPEM = keyPair.exportKey()\n",
        "\n",
        "  #Encryption Function\n",
        "  def encrypt(self,plain_text):\n",
        "    \n",
        "    encryptor = PKCS1_OAEP.new(self.pubKey)\n",
        "    '''encode plaintext using b64encode'''\n",
        "    encrypted_text = encryptor.encrypt(plain_text.encode())\n",
        "    return b64encode(encrypted_text).decode(\"utf-8\")\n",
        "\n",
        "  #Decryption function\n",
        "  def decryption(self,encrypted_text):\n",
        "\n",
        "    decryptor = PKCS1_OAEP.new(keyPair)\n",
        "    encrypt_byte = b64decode(encrypted_text.encode())\n",
        "    length = len(encrypt_byte)\n",
        "    if length < default_length:\n",
        "          decrypt_byte = decryptor.decrypt(encrypt_byte, 'failure')\n",
        "    else:\n",
        "          offset = 0\n",
        "          res = []\n",
        "          while length - offset > 0:\n",
        "              if length - offset > default_length:\n",
        "                  res.append(decryptor.decrypt(encrypt_byte[offset: offset + default_length]))\n",
        "              else:\n",
        "                  res.append(decryptor.decrypt(encrypt_byte[offset:]))\n",
        "              offset += default_length\n",
        "          decrypt_byte = b''.join(res)\n",
        "\n",
        "    '''decode encrypted text using b64decode'''\n",
        "    decrypted_text = decrypt_byte.decode()\n",
        "    return decrypted_text\n",
        "  \n",
        "# keyPair = RSA.generate(3072)\n",
        " \n",
        "# pubKey = keyPair.publickey()\n",
        "# print(f\"Public key:  (n={hex(pubKey.n)}, e={hex(pubKey.e)})\")\n",
        "# pubKeyPEM = pubKey.exportKey()\n",
        "# print(pubKeyPEM.decode('ascii'))\n",
        " \n",
        "# print(f\"Private key: (n={hex(pubKey.n)}, d={hex(keyPair.d)})\")\n",
        "# privKeyPEM = keyPair.exportKey()\n",
        "# print(privKeyPEM.decode('ascii'))\n",
        " \n",
        "# #encryption\n",
        "# msg = 'A message for encryption'\n",
        "# encryptor = PKCS1_OAEP.new(pubKey)\n",
        "# encrypted = encryptor.encrypt(msg)\n",
        "# print(\"Encrypted:\", binascii.hexlify(encrypted))\n"
      ],
      "execution_count": null,
      "outputs": []
    },
    {
      "cell_type": "code",
      "metadata": {
        "colab": {
          "base_uri": "https://localhost:8080/"
        },
        "id": "exkTUurCrfh-",
        "outputId": "707550fb-4134-49ff-9c86-eb775359ccfe"
      },
      "source": [
        "obj_RSA = RSA_algorithm()\n",
        "plain_text = input(\"Please Enter plain-text:\")\n",
        "strat_time = time.time()\n",
        "encrypted_text = obj_RSA.encrypt(plain_text)\n",
        "print(encrypted_text)\n",
        "used_time = time.time() - strat_time\n",
        "\n",
        "print(\"Time used by algorithm to encrypt :-\", used_time)"
      ],
      "execution_count": null,
      "outputs": [
        {
          "output_type": "stream",
          "text": [
            "Please Enter plain-text:Ruchit Vora\n",
            "IALm+1ePfUnCq1Z2inSin6CKaaMljOtcVNyCtT109DKr8HXWXXBxpzgsaWIlATo+2ut2huz0FoaHvMMLNA8Ajcr5sonRM7fzlZ+BVXTEgZ0basr3h1NFORDQUydqE6RsmUgPPBT7Rdjbbdgr6URqw5lY3Fgu8rCGg2Zsy4evyH0=\n",
            "Time used by algorithm to encrypt :- 0.004511117935180664\n"
          ],
          "name": "stdout"
        }
      ]
    },
    {
      "cell_type": "code",
      "metadata": {
        "colab": {
          "base_uri": "https://localhost:8080/"
        },
        "id": "J3BgHPInsiGv",
        "outputId": "e053073f-b3e6-4dac-b230-31a3994b85d1"
      },
      "source": [
        "decrypted_text = obj_RSA.decryption(encrypted_text)\n",
        "print(\"Decryptected Text is :\", decrypted_text)"
      ],
      "execution_count": null,
      "outputs": [
        {
          "output_type": "stream",
          "text": [
            "Decryptected Text is : Ruchit Vora\n"
          ],
          "name": "stdout"
        }
      ]
    },
    {
      "cell_type": "code",
      "metadata": {
        "colab": {
          "base_uri": "https://localhost:8080/"
        },
        "id": "_LURm-I3Vvj1",
        "outputId": "047497dc-9b88-4cae-a0e4-b6c0c2886b64"
      },
      "source": [
        "plain_text2 = input(\"Please Enter plain-text:\")\n",
        "encrypted_text2 = obj_RSA.encrypt(plain_text)\n",
        "print(encrypted_text2)\n",
        "\n",
        "ham_distance = hamming(encrypted_text2,encrypted_text) * len(encrypted_text)\n",
        "print(ham_distance)\n",
        "\n"
      ],
      "execution_count": null,
      "outputs": [
        {
          "output_type": "stream",
          "text": [
            "Please Enter plain-text:ruchit vora\n",
            "PKLUTDKARm51yllfxlFmth1MED3kI0pO1GXAeObI5ZIz4axDqLB7Dbvj0xIlDFbKTWg09io8Dii6UamNq45ocwn4gY1VzEmlW0g/mha9dA6a3WmN7W7Xakf+OwvXMH+paPQQKrRZKP1nc9B7kYyFauykbyacfgLV9dnJReTkUqw=\n",
            "172.0\n"
          ],
          "name": "stdout"
        }
      ]
    },
    {
      "cell_type": "code",
      "metadata": {
        "id": "Q3MASPkcV6LO"
      },
      "source": [
        ""
      ],
      "execution_count": null,
      "outputs": []
    }
  ]
}